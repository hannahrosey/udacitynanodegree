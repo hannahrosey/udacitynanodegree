{
 "cells": [
  {
   "cell_type": "markdown",
   "metadata": {},
   "source": [
    "### Thank you for the review of my project! I've addressed the feedback below :)"
   ]
  },
  {
   "cell_type": "code",
   "execution_count": 121,
   "metadata": {},
   "outputs": [],
   "source": [
    "#first import the data from csv.\n",
    "import pandas as pd\n",
    "import numpy as np\n",
    "import matplotlib as mpl\n",
    "from matplotlib import pyplot as plt\n",
    "import seaborn as sns\n",
    "sns.set_style('white')\n",
    "from scipy import stats"
   ]
  },
  {
   "cell_type": "code",
   "execution_count": 8,
   "metadata": {},
   "outputs": [],
   "source": [
    "#open the data\n",
    "path = 'stroopdata.csv'\n",
    "data = pd.read_csv(path)"
   ]
  },
  {
   "cell_type": "markdown",
   "metadata": {},
   "source": [
    "### 1. What is our independent variable? What is our dependent variable?"
   ]
  },
  {
   "cell_type": "markdown",
   "metadata": {},
   "source": [
    "Each person's time is dependent on congruence, i.e. whether the colors match the words. Time is the dependent variable; congruence is the independent variable."
   ]
  },
  {
   "cell_type": "markdown",
   "metadata": {},
   "source": [
    "### 2. What is an appropriate set of hypotheses for this task? What kind of statistical test do you expect to perform? Justify your choices."
   ]
  },
  {
   "cell_type": "markdown",
   "metadata": {},
   "source": [
    "* **Null hypothesis:** There is no difference between the time it takes to read the congruent and incongruent word lists\n",
    "\n",
    "* **Alternative hypothesis:** There is a difference between the time it takes to read the congruent and incongruent words lists\n",
    "    \n",
    "* In mathematical terms, this means that for any user $i$,\n",
    "\n",
    "$d = incongruent$ $time_{i}$ - $congruent$  $time_{i}$\n",
    "\n",
    "$H0: μd = 0$\n",
    "\n",
    "$HA: μd ≠ 0$\n",
    "\n",
    "\n",
    "* In this experiment, we're trying to see if there is a statistically significant **change** in time it takes to read the words based on congruence. Because we have two measurements for every respondent in the sample, and because every person's 'baseline' time is different, we need a **paired test.**\n",
    "\n",
    "* Because we have fewer than 30 respondents and do not know the population mean, we must perform a **t-test** rather than a Z-test.\n",
    "\n",
    "* We will do a **two-tailed test** to account for the possibility that incongruent time is actually lower than congruent time. \n",
    "\n",
    "**Conclusion: a two-tailed paired t-test is the correct statistical test.**"
   ]
  },
  {
   "cell_type": "markdown",
   "metadata": {},
   "source": [
    "### 3a. Descriptive Statistics: Central Tendency"
   ]
  },
  {
   "cell_type": "code",
   "execution_count": 4,
   "metadata": {},
   "outputs": [
    {
     "data": {
      "text/html": [
       "<div>\n",
       "<table border=\"1\" class=\"dataframe\">\n",
       "  <thead>\n",
       "    <tr style=\"text-align: right;\">\n",
       "      <th></th>\n",
       "      <th>congruent</th>\n",
       "      <th>incongruent</th>\n",
       "    </tr>\n",
       "  </thead>\n",
       "  <tbody>\n",
       "    <tr>\n",
       "      <th>mean</th>\n",
       "      <td>14.05</td>\n",
       "      <td>22.02</td>\n",
       "    </tr>\n",
       "    <tr>\n",
       "      <th>median</th>\n",
       "      <td>14.36</td>\n",
       "      <td>21.02</td>\n",
       "    </tr>\n",
       "  </tbody>\n",
       "</table>\n",
       "</div>"
      ],
      "text/plain": [
       "        congruent  incongruent\n",
       "mean        14.05        22.02\n",
       "median      14.36        21.02"
      ]
     },
     "execution_count": 4,
     "metadata": {},
     "output_type": "execute_result"
    }
   ],
   "source": [
    "#table of central tendancy stats\n",
    "central_tendancy_table = { \n",
    "    'congruent' : [round(np.mean(data.Congruent),2),\n",
    "                   round(np.median(data.Congruent.sort_values()),2)],\n",
    "    'incongruent' : [round(np.mean(data.Incongruent),2),\n",
    "                     round(np.median(data.Incongruent.sort_values()),2)]\n",
    "    }\n",
    "pd.DataFrame(central_tendancy_table,index=[\"mean\",\"median\"])"
   ]
  },
  {
   "cell_type": "markdown",
   "metadata": {},
   "source": [
    "### 3b. Descriptive Statistics: Variability"
   ]
  },
  {
   "cell_type": "markdown",
   "metadata": {},
   "source": [
    "New formula for **sample** variance and standard deviation:\n",
    "\n",
    "$s^{2}$ = $\\text{sum of squared difference} / (N-1)$\n",
    "\n",
    "$s$ = $\\sqrt{\\text{sum of squared difference)} / (N-1)}$"
   ]
  },
  {
   "cell_type": "code",
   "execution_count": 58,
   "metadata": {},
   "outputs": [],
   "source": [
    "#get differences from mean for calculating variance and SD\n",
    "c_squared_difference = sum((data.Congruent-np.mean(data.Congruent))**2)\n",
    "i_squared_difference = sum((data.Incongruent-np.mean(data.Incongruent))**2)"
   ]
  },
  {
   "cell_type": "code",
   "execution_count": 61,
   "metadata": {},
   "outputs": [
    {
     "data": {
      "text/html": [
       "<div>\n",
       "<style>\n",
       "    .dataframe thead tr:only-child th {\n",
       "        text-align: right;\n",
       "    }\n",
       "\n",
       "    .dataframe thead th {\n",
       "        text-align: left;\n",
       "    }\n",
       "\n",
       "    .dataframe tbody tr th {\n",
       "        vertical-align: top;\n",
       "    }\n",
       "</style>\n",
       "<table border=\"1\" class=\"dataframe\">\n",
       "  <thead>\n",
       "    <tr style=\"text-align: right;\">\n",
       "      <th></th>\n",
       "      <th>congruent</th>\n",
       "      <th>incongruent</th>\n",
       "    </tr>\n",
       "  </thead>\n",
       "  <tbody>\n",
       "    <tr>\n",
       "      <th>min</th>\n",
       "      <td>8.63</td>\n",
       "      <td>15.69</td>\n",
       "    </tr>\n",
       "    <tr>\n",
       "      <th>max</th>\n",
       "      <td>22.33</td>\n",
       "      <td>35.26</td>\n",
       "    </tr>\n",
       "    <tr>\n",
       "      <th>variance</th>\n",
       "      <td>12.14</td>\n",
       "      <td>22.05</td>\n",
       "    </tr>\n",
       "    <tr>\n",
       "      <th>standard deviation</th>\n",
       "      <td>3.48</td>\n",
       "      <td>4.70</td>\n",
       "    </tr>\n",
       "  </tbody>\n",
       "</table>\n",
       "</div>"
      ],
      "text/plain": [
       "                    congruent  incongruent\n",
       "min                      8.63        15.69\n",
       "max                     22.33        35.26\n",
       "variance                12.14        22.05\n",
       "standard deviation       3.48         4.70"
      ]
     },
     "execution_count": 61,
     "metadata": {},
     "output_type": "execute_result"
    }
   ],
   "source": [
    "#table of variability stats\n",
    "corrected_variability_table = { \n",
    "    'congruent' : [round(min(data.Congruent),2),\n",
    "                   round(max(data.Congruent),2),\n",
    "                   round(c_squared_difference/(data.Congruent.size-1),2),\n",
    "                   round(c_squared_difference/(data.Congruent.size-1)**(1/2.0),2)\n",
    "                   ],\n",
    "    'incongruent' : [round(min(data.Incongruent),2),\n",
    "                     round(max(data.Incongruent),2),\n",
    "                     round(i_squared_difference/(data.Incongruent.size-1),2),\n",
    "                     round(i_squared_difference/(data.Incongruent.size-1)**(1/2.0),2)\n",
    "                      ]\n",
    "    }\n",
    "\n",
    "pd.DataFrame(variability_table,index=[\"min\",\"max\",\"variance\",\"standard deviation\"])"
   ]
  },
  {
   "cell_type": "markdown",
   "metadata": {},
   "source": [
    "### 4. Visualization of Data"
   ]
  },
  {
   "cell_type": "markdown",
   "metadata": {},
   "source": [
    "The histograms show that incongruent time has a higher median and more outliers than the congruent time."
   ]
  },
  {
   "cell_type": "code",
   "execution_count": 117,
   "metadata": {},
   "outputs": [
    {
     "data": {
      "image/png": "[encoded data removed]",
      "text/plain": [
       "<matplotlib.figure.Figure at 0x1a192c46d8>"
      ]
     },
     "metadata": {},
     "output_type": "display_data"
    }
   ],
   "source": [
    "#histogram of Congruent time\n",
    "plt.hist(data.Congruent,bins=np.arange(0,40,2))\n",
    "plt.ylabel('Count')\n",
    "plt.xlabel('Congruent Time')\n",
    "plt.show()"
   ]
  },
  {
   "cell_type": "code",
   "execution_count": 118,
   "metadata": {},
   "outputs": [
    {
     "data": {
      "image/png": "[encoded data removed]",
      "text/plain": [
       "<matplotlib.figure.Figure at 0x1a10d1e978>"
      ]
     },
     "metadata": {},
     "output_type": "display_data"
    }
   ],
   "source": [
    "#histogram of Incongruent time\n",
    "plt.hist(data.Incongruent,bins=np.arange(0,40,2))\n",
    "plt.ylabel('Count')\n",
    "plt.xlabel('Incongruent Time')\n",
    "plt.show()"
   ]
  },
  {
   "cell_type": "code",
   "execution_count": 122,
   "metadata": {},
   "outputs": [
    {
     "data": {
      "image/png": "[encoded data removed]",
      "text/plain": [
       "<matplotlib.figure.Figure at 0x1a199ca828>"
      ]
     },
     "metadata": {},
     "output_type": "display_data"
    }
   ],
   "source": [
    "#boxplot of times\n",
    "sns.boxplot(data=data)\n",
    "plt.ylabel(\"Time (s)\")\n",
    "plt.show()"
   ]
  },
  {
   "cell_type": "markdown",
   "metadata": {},
   "source": [
    "### 5. T-test for difference in means"
   ]
  },
  {
   "cell_type": "code",
   "execution_count": 17,
   "metadata": {},
   "outputs": [],
   "source": [
    "test = stats.ttest_rel(data.Congruent,data.Incongruent)"
   ]
  },
  {
   "cell_type": "code",
   "execution_count": 19,
   "metadata": {},
   "outputs": [],
   "source": [
    "test_statistic = test.statistic\n",
    "p_value = test.pvalue\n",
    "confidence_interval = .95\n",
    "critical_value =  2.069"
   ]
  },
  {
   "cell_type": "code",
   "execution_count": 47,
   "metadata": {},
   "outputs": [],
   "source": [
    "results = {\n",
    "    'test statistic':abs(test_statistic),\n",
    "    'critical value':critical_value,\n",
    "    'p value':p_value}"
   ]
  },
  {
   "cell_type": "code",
   "execution_count": 56,
   "metadata": {},
   "outputs": [
    {
     "data": {
      "text/plain": [
       "{'critical value': 2.069,\n",
       " 'p value': 4.1030005857111781e-08,\n",
       " 'test statistic': 8.020706944109957}"
      ]
     },
     "execution_count": 56,
     "metadata": {},
     "output_type": "execute_result"
    }
   ],
   "source": [
    "results"
   ]
  },
  {
   "cell_type": "markdown",
   "metadata": {},
   "source": [
    "The absolute value of my test statistic, 8.02, is greater than my critical value, 2.069, with a p-value of less than .05. I can therefore reject the null hypothesis at 95% confidence. This meets our expectations, given the very different distributions of the congruent and incongruent times, that it takes someone much longer to read the incogruent word list."
   ]
  },
  {
   "cell_type": "markdown",
   "metadata": {},
   "source": [
    "### 6. Further research"
   ]
  },
  {
   "cell_type": "markdown",
   "metadata": {},
   "source": [
    "This experiment suggests that our brain is better at processing \"matching\" information compared to \"mismatched\" information. Since a user always sees the incongruent word list second, they may have improved their understanding of the task generally, offseting the difference in time. Switching up the order of the word lists could cause an even greater difference in time. An alternative task might include looking at words and pictures that do or do not match."
   ]
  },
  {
   "cell_type": "markdown",
   "metadata": {},
   "source": [
    "### Appendix: Resources consulted"
   ]
  },
  {
   "cell_type": "markdown",
   "metadata": {},
   "source": [
    "Seaborn visualizations guide: http://seaborn.pydata.org/tutorial.html\n",
    "\n",
    "Paired t-test hypotheses: http://stattrek.com/hypothesis-test/paired-means.aspx?Tutorial=AP\n",
    "\n",
    "t-test formulas: http://stattrek.com/hypothesis-test/difference-in-means.aspx?Tutorial=AP\n",
    "\n",
    "t distribution table:\n",
    "http://www.sjsu.edu/faculty/gerstman/StatPrimer/t-table.pdf"
   ]
  }
 ],
 "metadata": {
  "kernelspec": {
   "display_name": "Python 3",
   "language": "python",
   "name": "python3"
  },
  "language_info": {
   "codemirror_mode": {
    "name": "ipython",
    "version": 3
   },
   "file_extension": ".py",
   "mimetype": "text/x-python",
   "name": "python",
   "nbconvert_exporter": "python",
   "pygments_lexer": "ipython3",
   "version": "3.6.3"
  }
 },
 "nbformat": 4,
 "nbformat_minor": 1
}
